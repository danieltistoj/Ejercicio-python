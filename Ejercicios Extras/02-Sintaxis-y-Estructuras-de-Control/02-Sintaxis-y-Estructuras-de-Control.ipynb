{
 "metadata": {
  "language_info": {
   "codemirror_mode": {
    "name": "ipython",
    "version": 3
   },
   "file_extension": ".py",
   "mimetype": "text/x-python",
   "name": "python",
   "nbconvert_exporter": "python",
   "pygments_lexer": "ipython3",
   "version": "3.9.4"
  },
  "orig_nbformat": 2,
  "kernelspec": {
   "name": "python394jvsc74a57bd099895b1fb5777b62bbca485c28947babc49174d82e5a9d257e359cdc2b435eee",
   "display_name": "Python 3.9.4 64-bit"
  },
  "metadata": {
   "interpreter": {
    "hash": "99895b1fb5777b62bbca485c28947babc49174d82e5a9d257e359cdc2b435eee"
   }
  }
 },
 "nbformat": 4,
 "nbformat_minor": 2,
 "cells": [
  {
   "source": [
    "#Declaramos tres variables y asignamos un valor inicial\n",
    "numero = 10\n",
    "Numero = 20\n",
    "saludo = \"Hola Mundo !!!\"\n",
    "\n",
    "#Mostramos el contenido de las variables por pantalla\n",
    "print(numero)\n",
    "print(Numero)   #Diferencía entre mayúsculas y minúsculas\n",
    "print(\"Saludo: \" + saludo)\n",
    "print(\"\")\n",
    "\n",
    "#Mostramos el tipo de las variables por pantalla\n",
    "print(type(numero))\n",
    "print(type(saludo))\n",
    "print(\"\")"
   ],
   "cell_type": "code",
   "metadata": {},
   "execution_count": null,
   "outputs": []
  },
  {
   "cell_type": "code",
   "execution_count": null,
   "metadata": {},
   "outputs": [],
   "source": [
    "#Cambie b por a. Intento 1. Forma incorrecta.\n",
    "a=5\n",
    "b=10\n",
    "a=b\n",
    "b=a\n",
    "print(\"Intento 1. Forma incorrecta.\")\n",
    "print(a)\n",
    "print(b)\n",
    "print(\"\")\n",
    "\n",
    "#Cambie b por a. Intento 2. Una forma que funciona.\n",
    "a=5\n",
    "b=10\n",
    "temp=a\n",
    "a=b\n",
    "b=temp\n",
    "print(\"Intento 2. Una forma que funciona.\")\n",
    "print(a)\n",
    "print(b)\n",
    "print(\"\")\n",
    "\n",
    "#Cambie b por a. Intento 3. La forma de Python.\n",
    "a=5\n",
    "b=10\n",
    "a,b = b,a\n",
    "print(\"Intento 3. La forma de Python.\")\n",
    "print(a)\n",
    "print(b)\n",
    "print(\"\")"
   ]
  },
  {
   "cell_type": "code",
   "execution_count": null,
   "metadata": {},
   "outputs": [],
   "source": [
    "cadena=\"Hola Mundo !!!\"\n",
    "\n",
    "print(cadena)\n",
    "print(cadena[2])\n",
    "print(cadena[2:])\n",
    "print(cadena[:2])\n",
    "print(cadena[2:6])\n",
    "print(cadena[-2])\n",
    "\n",
    "print(cadena.lower())\n",
    "print(cadena.upper())\n",
    "print(cadena.capitalize())\n",
    "print(cadena.strip())\n",
    "print(cadena.replace(\"o\", \"+\"))\n",
    "print(cadena.isdigit())\n",
    "\n",
    "print(len(cadena))\n",
    "print(cadena.count())\n",
    "print(\"\")"
   ]
  },
  {
   "cell_type": "code",
   "execution_count": null,
   "metadata": {},
   "outputs": [],
   "source": [
    "mensaje = \"Mundo\"\n",
    "\n",
    "print(\"Hola \" + mensaje + \" !!!\")\n",
    "print(\"Hola {} !!!\".format(mensaje))\n",
    "print(\"Hola {s} !!!\".format(s=mensaje))\n",
    "print(f\"Hola {mensaje} !!!\")\n",
    "\n",
    "numero = 10 / 3\n",
    "print(numero)\n",
    "print(\"Hola {n:1.2f} !!!\".format(n=numero))"
   ]
  },
  {
   "cell_type": "code",
   "execution_count": null,
   "metadata": {},
   "outputs": [],
   "source": [
    "from datetime import datetime\n",
    "\n",
    "#Almacenamos en la variable dt1 la fecha actual del sistema\n",
    "dt1 = datetime.now().date()\n",
    "print(\"Fecha1: \", dt1)\n",
    "\n",
    "#Almacenamos en la variable dt2 la fecha y hora actual del sistema\n",
    "dt2 = datetime.now()\n",
    "print(\"Fecha2: \", dt2)\n",
    "\n",
    "#Convertimos un valor alfanúmerico en fecha utilizando STRPTIME\n",
    "fecha = input(\"Escribe tu fecha de nacimiento: \")\n",
    "dt3 = datetime.strptime(fecha, \"%d-%m-%Y\").date()\n",
    "\n",
    "#Mostramos por pantalla una fecha formateada\n",
    "print(\"Fecha3: \", dt3.strftime(\"%A, %d %B, %Y\"))\n",
    "\n",
    "#Calculos entre fechas\n",
    "años = dt1.year - dt3.year \n",
    "print(f\"Tienes {años} años.\")\n"
   ]
  },
  {
   "cell_type": "code",
   "execution_count": null,
   "metadata": {},
   "outputs": [],
   "source": [
    "from datetime import datetime, timedelta, timezone\n",
    "from pytz import timezone\n",
    "import pytz\n",
    "\n",
    "print(pytz.all_timezones)\n",
    "print(datetime.now(pytz.timezone('Asia/Tokyo')))\n",
    "print(datetime.now(pytz.timezone('Europe/Madrid')))\n",
    "print(datetime.now(pytz.timezone('US/Alaska')))\n",
    "print(datetime.now(pytz.timezone('UTC')))"
   ]
  },
  {
   "cell_type": "code",
   "execution_count": null,
   "metadata": {},
   "outputs": [],
   "source": [
    "a = 200\n",
    "b = 33\n",
    "\n",
    "#Inicio del IF\n",
    "if (b > a):\n",
    "  print(\"B es mayor que A\")\n",
    "elif (a == b):\n",
    "  print(\"A y B son iguales\")\n",
    "else:\n",
    "  print(\"A es mayor que B\")\n",
    "#Fin del IF\n",
    "\n",
    "print(\"\")\n",
    "print(\"Continua el programa después del IF\")"
   ]
  },
  {
   "cell_type": "code",
   "execution_count": null,
   "metadata": {},
   "outputs": [],
   "source": [
    "# Utilizamos FOR para recorrer colecciones.\n",
    "# Cuando fruta es igual a pomelo se finaliza el for con break, por lo que no\n",
    "# muestra el valor de lima.\n",
    "citricos = [\"naranja\", \"limón\", \"pomelo\", \"líma\"]\n",
    "for fruta in citricos:\n",
    "  print(fruta)\n",
    "  if fruta == \"pomelo\": \n",
    "      break\n",
    "\n",
    "# Utilizamos FOR con RANGE para establecer un contador y ejecutar \n",
    "# sentencias repetidas veces.\n",
    "# Ejemplo: de 0 a 99 de 5 en 5\n",
    "for i in range(0, 100, 5):\n",
    "    print(f\"Número: {i}\")\n"
   ]
  },
  {
   "cell_type": "code",
   "execution_count": null,
   "metadata": {},
   "outputs": [],
   "source": [
    "valor = 0\n",
    "while (valor < 5):\n",
    "    valor += 1\n",
    "    if (valor == 3):\n",
    "        continue\n",
    "    print(f\"Valor: {valor}\")\n",
    "    \n",
    "print(\"Fin del WHILE\")"
   ]
  },
  {
   "cell_type": "code",
   "execution_count": null,
   "metadata": {},
   "outputs": [],
   "source": [
    "citricos = [\"naranja\", \"limón\", \"pomelo\", \"líma\"]\n",
    "index = 0\n",
    "\n",
    "while (index < len(citricos)):\n",
    "    print(citricos[index])\n",
    "    index += 1\n",
    "\n",
    "print(\"Fin del WHILE\")"
   ]
  },
  {
   "cell_type": "code",
   "execution_count": null,
   "metadata": {},
   "outputs": [],
   "source": [
    "numero1 = 0\n",
    "numero2 = 100\n",
    "\n",
    "try:\n",
    "    numero3 = numero2 / numero1\n",
    "    print(f\"Número 3: {numero3}\")\n",
    "except ZeroDivisionError:\n",
    "    print(\"Error ZeroDivisionError el bloque TRY\")\n",
    "    print(\"No se puede dividir entre cero.\") \n",
    "except:\n",
    "    print(\"Error en el bloque TRY\")\n",
    "    print(\"Upsss Error !!!\")\n",
    "else:\n",
    "    print(\"Bloque TRY finalizado correctamente\")\n",
    "finally:\n",
    "    print(\"Finalizado try o except\")"
   ]
  },
  {
   "cell_type": "code",
   "execution_count": null,
   "metadata": {},
   "outputs": [],
   "source": [
    "###########################################################################\n",
    "# Utilizamos RAISE para generar una Error controlable mediante Try/Except #\n",
    "###########################################################################\n",
    "\n",
    "numero = \"32\"\n",
    "\n",
    "try:\n",
    "    if(type(numero) is not int):\n",
    "        raise Exception(\"La variable no es númerica\")\n",
    "except Exception as ex:\n",
    "    print(ex)"
   ]
  }
 ]
}